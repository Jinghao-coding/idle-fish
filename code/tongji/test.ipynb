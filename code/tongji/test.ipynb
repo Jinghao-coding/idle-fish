{
 "cells": [
  {
   "cell_type": "code",
   "execution_count": 319,
   "metadata": {
    "collapsed": true
   },
   "outputs": [
    {
     "name": "stdout",
     "output_type": "stream",
     "text": [
      "F:\\code\\xianyu\\idle-fish\\data\n"
     ]
    }
   ],
   "source": [
    "import numpy as np\n",
    "import os, sys\n",
    "path = os.getcwd()\n",
    "origin_data_path = os.path.abspath(\"../../data\")\n",
    "print(origin_data_path)"
   ]
  },
  {
   "cell_type": "code",
   "execution_count": 320,
   "outputs": [
    {
     "name": "stdout",
     "output_type": "stream",
     "text": [
      "F:\\code\\xianyu\\idle-fish\\data\\results_10.csv\n"
     ]
    },
    {
     "data": {
      "text/plain": "'F:\\\\code\\\\xianyu\\\\idle-fish\\\\result/out1.csv'"
     },
     "execution_count": 320,
     "metadata": {},
     "output_type": "execute_result"
    }
   ],
   "source": [
    "data_file_list = []\n",
    "files = os.listdir(origin_data_path)\n",
    "# print(files)\n",
    "for file in files:\n",
    "    data_file_list.append(origin_data_path+\"\\\\\"+file) #数据的绝对路径\n",
    "# print(data_file_list)\n",
    "import pandas as pd\n",
    "print(data_file_list[0]) # 获取一个文件名\n",
    "\n",
    "result_of_first_path = os.path.abspath(\"../../result/\") + \"/out1.csv\"\n",
    "result_of_first_path"
   ],
   "metadata": {
    "collapsed": false
   }
  },
  {
   "cell_type": "code",
   "execution_count": 321,
   "outputs": [
    {
     "data": {
      "text/plain": "                condition name  age gender hits_proportion  \\\nresults_10.csv        NaN  NaN  NaN    NaN             NaN   \nresults_100.csv       NaN  NaN  NaN    NaN             NaN   \nresults_110.csv       NaN  NaN  NaN    NaN             NaN   \nresults_112.csv       NaN  NaN  NaN    NaN             NaN   \nresults_114.csv       NaN  NaN  NaN    NaN             NaN   \n...                   ...  ...  ...    ...             ...   \nresults_88.csv        NaN  NaN  NaN    NaN             NaN   \nresults_89.csv        NaN  NaN  NaN    NaN             NaN   \nresults_90.csv        NaN  NaN  NaN    NaN             NaN   \nresults_93.csv        NaN  NaN  NaN    NaN             NaN   \nresults_95.csv        NaN  NaN  NaN    NaN             NaN   \n\n                nearMiss_proportion fullMiss_proportion hits_mean_hp  \\\nresults_10.csv                  NaN                 NaN          NaN   \nresults_100.csv                 NaN                 NaN          NaN   \nresults_110.csv                 NaN                 NaN          NaN   \nresults_112.csv                 NaN                 NaN          NaN   \nresults_114.csv                 NaN                 NaN          NaN   \n...                             ...                 ...          ...   \nresults_88.csv                  NaN                 NaN          NaN   \nresults_89.csv                  NaN                 NaN          NaN   \nresults_90.csv                  NaN                 NaN          NaN   \nresults_93.csv                  NaN                 NaN          NaN   \nresults_95.csv                  NaN                 NaN          NaN   \n\n                nearmiss_mean_hp fullMiss_mean_ha  ... nearMiss_mean_willing  \\\nresults_10.csv               NaN              NaN  ...                   NaN   \nresults_100.csv              NaN              NaN  ...                   NaN   \nresults_110.csv              NaN              NaN  ...                   NaN   \nresults_112.csv              NaN              NaN  ...                   NaN   \nresults_114.csv              NaN              NaN  ...                   NaN   \n...                          ...              ...  ...                   ...   \nresults_88.csv               NaN              NaN  ...                   NaN   \nresults_89.csv               NaN              NaN  ...                   NaN   \nresults_90.csv               NaN              NaN  ...                   NaN   \nresults_93.csv               NaN              NaN  ...                   NaN   \nresults_95.csv               NaN              NaN  ...                   NaN   \n\n                fullMiss_mean_willing max_happiness pos_max_happiness  \\\nresults_10.csv                    NaN           NaN               NaN   \nresults_100.csv                   NaN           NaN               NaN   \nresults_110.csv                   NaN           NaN               NaN   \nresults_112.csv                   NaN           NaN               NaN   \nresults_114.csv                   NaN           NaN               NaN   \n...                               ...           ...               ...   \nresults_88.csv                    NaN           NaN               NaN   \nresults_89.csv                    NaN           NaN               NaN   \nresults_90.csv                    NaN           NaN               NaN   \nresults_93.csv                    NaN           NaN               NaN   \nresults_95.csv                    NaN           NaN               NaN   \n\n                min_happiness pos_min_happiness date   ip datetime trail_times  \nresults_10.csv            NaN               NaN  NaN  NaN      NaN         NaN  \nresults_100.csv           NaN               NaN  NaN  NaN      NaN         NaN  \nresults_110.csv           NaN               NaN  NaN  NaN      NaN         NaN  \nresults_112.csv           NaN               NaN  NaN  NaN      NaN         NaN  \nresults_114.csv           NaN               NaN  NaN  NaN      NaN         NaN  \n...                       ...               ...  ...  ...      ...         ...  \nresults_88.csv            NaN               NaN  NaN  NaN      NaN         NaN  \nresults_89.csv            NaN               NaN  NaN  NaN      NaN         NaN  \nresults_90.csv            NaN               NaN  NaN  NaN      NaN         NaN  \nresults_93.csv            NaN               NaN  NaN  NaN      NaN         NaN  \nresults_95.csv            NaN               NaN  NaN  NaN      NaN         NaN  \n\n[78 rows x 21 columns]",
      "text/html": "<div>\n<style scoped>\n    .dataframe tbody tr th:only-of-type {\n        vertical-align: middle;\n    }\n\n    .dataframe tbody tr th {\n        vertical-align: top;\n    }\n\n    .dataframe thead th {\n        text-align: right;\n    }\n</style>\n<table border=\"1\" class=\"dataframe\">\n  <thead>\n    <tr style=\"text-align: right;\">\n      <th></th>\n      <th>condition</th>\n      <th>name</th>\n      <th>age</th>\n      <th>gender</th>\n      <th>hits_proportion</th>\n      <th>nearMiss_proportion</th>\n      <th>fullMiss_proportion</th>\n      <th>hits_mean_hp</th>\n      <th>nearmiss_mean_hp</th>\n      <th>fullMiss_mean_ha</th>\n      <th>...</th>\n      <th>nearMiss_mean_willing</th>\n      <th>fullMiss_mean_willing</th>\n      <th>max_happiness</th>\n      <th>pos_max_happiness</th>\n      <th>min_happiness</th>\n      <th>pos_min_happiness</th>\n      <th>date</th>\n      <th>ip</th>\n      <th>datetime</th>\n      <th>trail_times</th>\n    </tr>\n  </thead>\n  <tbody>\n    <tr>\n      <th>results_10.csv</th>\n      <td>NaN</td>\n      <td>NaN</td>\n      <td>NaN</td>\n      <td>NaN</td>\n      <td>NaN</td>\n      <td>NaN</td>\n      <td>NaN</td>\n      <td>NaN</td>\n      <td>NaN</td>\n      <td>NaN</td>\n      <td>...</td>\n      <td>NaN</td>\n      <td>NaN</td>\n      <td>NaN</td>\n      <td>NaN</td>\n      <td>NaN</td>\n      <td>NaN</td>\n      <td>NaN</td>\n      <td>NaN</td>\n      <td>NaN</td>\n      <td>NaN</td>\n    </tr>\n    <tr>\n      <th>results_100.csv</th>\n      <td>NaN</td>\n      <td>NaN</td>\n      <td>NaN</td>\n      <td>NaN</td>\n      <td>NaN</td>\n      <td>NaN</td>\n      <td>NaN</td>\n      <td>NaN</td>\n      <td>NaN</td>\n      <td>NaN</td>\n      <td>...</td>\n      <td>NaN</td>\n      <td>NaN</td>\n      <td>NaN</td>\n      <td>NaN</td>\n      <td>NaN</td>\n      <td>NaN</td>\n      <td>NaN</td>\n      <td>NaN</td>\n      <td>NaN</td>\n      <td>NaN</td>\n    </tr>\n    <tr>\n      <th>results_110.csv</th>\n      <td>NaN</td>\n      <td>NaN</td>\n      <td>NaN</td>\n      <td>NaN</td>\n      <td>NaN</td>\n      <td>NaN</td>\n      <td>NaN</td>\n      <td>NaN</td>\n      <td>NaN</td>\n      <td>NaN</td>\n      <td>...</td>\n      <td>NaN</td>\n      <td>NaN</td>\n      <td>NaN</td>\n      <td>NaN</td>\n      <td>NaN</td>\n      <td>NaN</td>\n      <td>NaN</td>\n      <td>NaN</td>\n      <td>NaN</td>\n      <td>NaN</td>\n    </tr>\n    <tr>\n      <th>results_112.csv</th>\n      <td>NaN</td>\n      <td>NaN</td>\n      <td>NaN</td>\n      <td>NaN</td>\n      <td>NaN</td>\n      <td>NaN</td>\n      <td>NaN</td>\n      <td>NaN</td>\n      <td>NaN</td>\n      <td>NaN</td>\n      <td>...</td>\n      <td>NaN</td>\n      <td>NaN</td>\n      <td>NaN</td>\n      <td>NaN</td>\n      <td>NaN</td>\n      <td>NaN</td>\n      <td>NaN</td>\n      <td>NaN</td>\n      <td>NaN</td>\n      <td>NaN</td>\n    </tr>\n    <tr>\n      <th>results_114.csv</th>\n      <td>NaN</td>\n      <td>NaN</td>\n      <td>NaN</td>\n      <td>NaN</td>\n      <td>NaN</td>\n      <td>NaN</td>\n      <td>NaN</td>\n      <td>NaN</td>\n      <td>NaN</td>\n      <td>NaN</td>\n      <td>...</td>\n      <td>NaN</td>\n      <td>NaN</td>\n      <td>NaN</td>\n      <td>NaN</td>\n      <td>NaN</td>\n      <td>NaN</td>\n      <td>NaN</td>\n      <td>NaN</td>\n      <td>NaN</td>\n      <td>NaN</td>\n    </tr>\n    <tr>\n      <th>...</th>\n      <td>...</td>\n      <td>...</td>\n      <td>...</td>\n      <td>...</td>\n      <td>...</td>\n      <td>...</td>\n      <td>...</td>\n      <td>...</td>\n      <td>...</td>\n      <td>...</td>\n      <td>...</td>\n      <td>...</td>\n      <td>...</td>\n      <td>...</td>\n      <td>...</td>\n      <td>...</td>\n      <td>...</td>\n      <td>...</td>\n      <td>...</td>\n      <td>...</td>\n      <td>...</td>\n    </tr>\n    <tr>\n      <th>results_88.csv</th>\n      <td>NaN</td>\n      <td>NaN</td>\n      <td>NaN</td>\n      <td>NaN</td>\n      <td>NaN</td>\n      <td>NaN</td>\n      <td>NaN</td>\n      <td>NaN</td>\n      <td>NaN</td>\n      <td>NaN</td>\n      <td>...</td>\n      <td>NaN</td>\n      <td>NaN</td>\n      <td>NaN</td>\n      <td>NaN</td>\n      <td>NaN</td>\n      <td>NaN</td>\n      <td>NaN</td>\n      <td>NaN</td>\n      <td>NaN</td>\n      <td>NaN</td>\n    </tr>\n    <tr>\n      <th>results_89.csv</th>\n      <td>NaN</td>\n      <td>NaN</td>\n      <td>NaN</td>\n      <td>NaN</td>\n      <td>NaN</td>\n      <td>NaN</td>\n      <td>NaN</td>\n      <td>NaN</td>\n      <td>NaN</td>\n      <td>NaN</td>\n      <td>...</td>\n      <td>NaN</td>\n      <td>NaN</td>\n      <td>NaN</td>\n      <td>NaN</td>\n      <td>NaN</td>\n      <td>NaN</td>\n      <td>NaN</td>\n      <td>NaN</td>\n      <td>NaN</td>\n      <td>NaN</td>\n    </tr>\n    <tr>\n      <th>results_90.csv</th>\n      <td>NaN</td>\n      <td>NaN</td>\n      <td>NaN</td>\n      <td>NaN</td>\n      <td>NaN</td>\n      <td>NaN</td>\n      <td>NaN</td>\n      <td>NaN</td>\n      <td>NaN</td>\n      <td>NaN</td>\n      <td>...</td>\n      <td>NaN</td>\n      <td>NaN</td>\n      <td>NaN</td>\n      <td>NaN</td>\n      <td>NaN</td>\n      <td>NaN</td>\n      <td>NaN</td>\n      <td>NaN</td>\n      <td>NaN</td>\n      <td>NaN</td>\n    </tr>\n    <tr>\n      <th>results_93.csv</th>\n      <td>NaN</td>\n      <td>NaN</td>\n      <td>NaN</td>\n      <td>NaN</td>\n      <td>NaN</td>\n      <td>NaN</td>\n      <td>NaN</td>\n      <td>NaN</td>\n      <td>NaN</td>\n      <td>NaN</td>\n      <td>...</td>\n      <td>NaN</td>\n      <td>NaN</td>\n      <td>NaN</td>\n      <td>NaN</td>\n      <td>NaN</td>\n      <td>NaN</td>\n      <td>NaN</td>\n      <td>NaN</td>\n      <td>NaN</td>\n      <td>NaN</td>\n    </tr>\n    <tr>\n      <th>results_95.csv</th>\n      <td>NaN</td>\n      <td>NaN</td>\n      <td>NaN</td>\n      <td>NaN</td>\n      <td>NaN</td>\n      <td>NaN</td>\n      <td>NaN</td>\n      <td>NaN</td>\n      <td>NaN</td>\n      <td>NaN</td>\n      <td>...</td>\n      <td>NaN</td>\n      <td>NaN</td>\n      <td>NaN</td>\n      <td>NaN</td>\n      <td>NaN</td>\n      <td>NaN</td>\n      <td>NaN</td>\n      <td>NaN</td>\n      <td>NaN</td>\n      <td>NaN</td>\n    </tr>\n  </tbody>\n</table>\n<p>78 rows × 21 columns</p>\n</div>"
     },
     "execution_count": 321,
     "metadata": {},
     "output_type": "execute_result"
    }
   ],
   "source": [
    "adict = dict()\n",
    "alist = [\"condition\", \"name\", \"age\", \"gender\", \"hits_proportion\", \"nearMiss_proportion\", \"fullMiss_proportion\",\"hits_mean_hp\", \"nearmiss_mean_hp\",\"fullMiss_mean_ha\", \"hits_mean_willing\", \"nearMiss_mean_willing\", \"fullMiss_mean_willing\", \"max_happiness\", \"pos_max_happiness\", \"min_happiness\",\"pos_min_happiness\", \"date\", \"ip\", \"datetime\", \"trail_times\"]\n",
    "blist = files\n",
    "df = pd.DataFrame(columns=alist, index=blist)\n",
    "df"
   ],
   "metadata": {
    "collapsed": false
   }
  },
  {
   "cell_type": "code",
   "execution_count": 329,
   "outputs": [
    {
     "name": "stdout",
     "output_type": "stream",
     "text": [
      "78\n"
     ]
    },
    {
     "data": {
      "text/plain": "                condition      name age  gender hits_proportion  \\\nresults_10.csv      skill     Manoj  25    male            0.22   \nresults_100.csv      luck      Emma  31  Female            0.15   \nresults_110.csv     mixed    Yanina  45  Female            0.18   \nresults_112.csv     mixed   Daniela  26  FEMALE            0.07   \nresults_114.csv     skill      Elio  24    MALE             0.3   \n...                   ...       ...  ..     ...             ...   \nresults_88.csv      mixed     Roger  24    Male            0.15   \nresults_89.csv      mixed       Sam  23    MALE            0.15   \nresults_90.csv      skill     Belen  23  FEMALE            0.22   \nresults_93.csv      mixed    Rafael  28    MALE            0.15   \nresults_95.csv      mixed  Macarena  26  female            0.19   \n\n                nearMiss_proportion fullMiss_proportion hits_mean_hp  \\\nresults_10.csv             0.407407             0.37037    59.833333   \nresults_100.csv            0.296296            0.555556        56.25   \nresults_110.csv            0.285714                 0.5         95.2   \nresults_112.csv            0.333333            0.592593         48.5   \nresults_114.csv            0.296296            0.407407        67.75   \n...                             ...                 ...          ...   \nresults_88.csv             0.333333            0.518519        49.75   \nresults_89.csv             0.259259            0.592593        71.25   \nresults_90.csv             0.259259            0.518519    91.833333   \nresults_93.csv             0.269231            0.576923         93.0   \nresults_95.csv             0.230769            0.576923         77.6   \n\n                nearmiss_mean_hp fullMiss_mean_ha  ... nearMiss_mean_willing  \\\nresults_10.csv          0.454545              0.2  ...             14.909091   \nresults_100.csv           27.875        21.133333  ...                  13.5   \nresults_110.csv             37.5        43.642857  ...                91.875   \nresults_112.csv        36.222222             34.0  ...             17.555556   \nresults_114.csv             22.5        29.818182  ...                46.125   \n...                          ...              ...  ...                   ...   \nresults_88.csv         50.111111        50.071429  ...              9.888889   \nresults_89.csv         47.285714            50.25  ...             64.571429   \nresults_90.csv          5.428571         0.928571  ...             19.285714   \nresults_93.csv         33.714286             34.6  ...             24.428571   \nresults_95.csv         49.333333        49.666667  ...                  34.0   \n\n                fullMiss_mean_willing max_happiness pos_max_happiness  \\\nresults_10.csv                   13.9            99                 2   \nresults_100.csv                  15.2            62                11   \nresults_110.csv             90.142857          98.0                20   \nresults_112.csv                 18.25            64                 3   \nresults_114.csv             47.363636            92                14   \n...                               ...           ...               ...   \nresults_88.csv               9.428571            52                 2   \nresults_89.csv                 63.625            77                13   \nresults_90.csv              13.214286           100                 2   \nresults_93.csv              38.266667            99                 3   \nresults_95.csv              33.133333            99                 3   \n\n                min_happiness pos_min_happiness          date              ip  \\\nresults_10.csv              0                 1  1370328203.0  69.216.67.223,   \nresults_100.csv             0                22  1370919438.0    27.159.43.98   \nresults_110.csv           6.0                13  1370932367.0    55.23.173.55   \nresults_112.csv             0                16  1370850038.0  71.230.162.195   \nresults_114.csv             0                22  1370358237.0   91.62.120.201   \n...                       ...               ...           ...             ...   \nresults_88.csv             48                 9  1371106433.0    7.239.19.202   \nresults_89.csv             34                 2  1370508575.0   202.90.23.253   \nresults_90.csv              0                 0  1371459466.0  139.252.15.102   \nresults_93.csv              5                19  1371113766.0     27.25.20.93   \nresults_95.csv             42                 1  1371021863.0   94.110.82.122   \n\n                   datetime trail_times  \nresults_10.csv   2013-06-04          27  \nresults_100.csv  2013-06-11          27  \nresults_110.csv  2013-06-11          28  \nresults_112.csv  2013-06-10          27  \nresults_114.csv  2013-06-04          27  \n...                     ...         ...  \nresults_88.csv   2013-06-13          27  \nresults_89.csv   2013-06-06          27  \nresults_90.csv   2013-06-17          27  \nresults_93.csv   2013-06-13          26  \nresults_95.csv   2013-06-12          26  \n\n[78 rows x 21 columns]",
      "text/html": "<div>\n<style scoped>\n    .dataframe tbody tr th:only-of-type {\n        vertical-align: middle;\n    }\n\n    .dataframe tbody tr th {\n        vertical-align: top;\n    }\n\n    .dataframe thead th {\n        text-align: right;\n    }\n</style>\n<table border=\"1\" class=\"dataframe\">\n  <thead>\n    <tr style=\"text-align: right;\">\n      <th></th>\n      <th>condition</th>\n      <th>name</th>\n      <th>age</th>\n      <th>gender</th>\n      <th>hits_proportion</th>\n      <th>nearMiss_proportion</th>\n      <th>fullMiss_proportion</th>\n      <th>hits_mean_hp</th>\n      <th>nearmiss_mean_hp</th>\n      <th>fullMiss_mean_ha</th>\n      <th>...</th>\n      <th>nearMiss_mean_willing</th>\n      <th>fullMiss_mean_willing</th>\n      <th>max_happiness</th>\n      <th>pos_max_happiness</th>\n      <th>min_happiness</th>\n      <th>pos_min_happiness</th>\n      <th>date</th>\n      <th>ip</th>\n      <th>datetime</th>\n      <th>trail_times</th>\n    </tr>\n  </thead>\n  <tbody>\n    <tr>\n      <th>results_10.csv</th>\n      <td>skill</td>\n      <td>Manoj</td>\n      <td>25</td>\n      <td>male</td>\n      <td>0.22</td>\n      <td>0.407407</td>\n      <td>0.37037</td>\n      <td>59.833333</td>\n      <td>0.454545</td>\n      <td>0.2</td>\n      <td>...</td>\n      <td>14.909091</td>\n      <td>13.9</td>\n      <td>99</td>\n      <td>2</td>\n      <td>0</td>\n      <td>1</td>\n      <td>1370328203.0</td>\n      <td>69.216.67.223,</td>\n      <td>2013-06-04</td>\n      <td>27</td>\n    </tr>\n    <tr>\n      <th>results_100.csv</th>\n      <td>luck</td>\n      <td>Emma</td>\n      <td>31</td>\n      <td>Female</td>\n      <td>0.15</td>\n      <td>0.296296</td>\n      <td>0.555556</td>\n      <td>56.25</td>\n      <td>27.875</td>\n      <td>21.133333</td>\n      <td>...</td>\n      <td>13.5</td>\n      <td>15.2</td>\n      <td>62</td>\n      <td>11</td>\n      <td>0</td>\n      <td>22</td>\n      <td>1370919438.0</td>\n      <td>27.159.43.98</td>\n      <td>2013-06-11</td>\n      <td>27</td>\n    </tr>\n    <tr>\n      <th>results_110.csv</th>\n      <td>mixed</td>\n      <td>Yanina</td>\n      <td>45</td>\n      <td>Female</td>\n      <td>0.18</td>\n      <td>0.285714</td>\n      <td>0.5</td>\n      <td>95.2</td>\n      <td>37.5</td>\n      <td>43.642857</td>\n      <td>...</td>\n      <td>91.875</td>\n      <td>90.142857</td>\n      <td>98.0</td>\n      <td>20</td>\n      <td>6.0</td>\n      <td>13</td>\n      <td>1370932367.0</td>\n      <td>55.23.173.55</td>\n      <td>2013-06-11</td>\n      <td>28</td>\n    </tr>\n    <tr>\n      <th>results_112.csv</th>\n      <td>mixed</td>\n      <td>Daniela</td>\n      <td>26</td>\n      <td>FEMALE</td>\n      <td>0.07</td>\n      <td>0.333333</td>\n      <td>0.592593</td>\n      <td>48.5</td>\n      <td>36.222222</td>\n      <td>34.0</td>\n      <td>...</td>\n      <td>17.555556</td>\n      <td>18.25</td>\n      <td>64</td>\n      <td>3</td>\n      <td>0</td>\n      <td>16</td>\n      <td>1370850038.0</td>\n      <td>71.230.162.195</td>\n      <td>2013-06-10</td>\n      <td>27</td>\n    </tr>\n    <tr>\n      <th>results_114.csv</th>\n      <td>skill</td>\n      <td>Elio</td>\n      <td>24</td>\n      <td>MALE</td>\n      <td>0.3</td>\n      <td>0.296296</td>\n      <td>0.407407</td>\n      <td>67.75</td>\n      <td>22.5</td>\n      <td>29.818182</td>\n      <td>...</td>\n      <td>46.125</td>\n      <td>47.363636</td>\n      <td>92</td>\n      <td>14</td>\n      <td>0</td>\n      <td>22</td>\n      <td>1370358237.0</td>\n      <td>91.62.120.201</td>\n      <td>2013-06-04</td>\n      <td>27</td>\n    </tr>\n    <tr>\n      <th>...</th>\n      <td>...</td>\n      <td>...</td>\n      <td>...</td>\n      <td>...</td>\n      <td>...</td>\n      <td>...</td>\n      <td>...</td>\n      <td>...</td>\n      <td>...</td>\n      <td>...</td>\n      <td>...</td>\n      <td>...</td>\n      <td>...</td>\n      <td>...</td>\n      <td>...</td>\n      <td>...</td>\n      <td>...</td>\n      <td>...</td>\n      <td>...</td>\n      <td>...</td>\n      <td>...</td>\n    </tr>\n    <tr>\n      <th>results_88.csv</th>\n      <td>mixed</td>\n      <td>Roger</td>\n      <td>24</td>\n      <td>Male</td>\n      <td>0.15</td>\n      <td>0.333333</td>\n      <td>0.518519</td>\n      <td>49.75</td>\n      <td>50.111111</td>\n      <td>50.071429</td>\n      <td>...</td>\n      <td>9.888889</td>\n      <td>9.428571</td>\n      <td>52</td>\n      <td>2</td>\n      <td>48</td>\n      <td>9</td>\n      <td>1371106433.0</td>\n      <td>7.239.19.202</td>\n      <td>2013-06-13</td>\n      <td>27</td>\n    </tr>\n    <tr>\n      <th>results_89.csv</th>\n      <td>mixed</td>\n      <td>Sam</td>\n      <td>23</td>\n      <td>MALE</td>\n      <td>0.15</td>\n      <td>0.259259</td>\n      <td>0.592593</td>\n      <td>71.25</td>\n      <td>47.285714</td>\n      <td>50.25</td>\n      <td>...</td>\n      <td>64.571429</td>\n      <td>63.625</td>\n      <td>77</td>\n      <td>13</td>\n      <td>34</td>\n      <td>2</td>\n      <td>1370508575.0</td>\n      <td>202.90.23.253</td>\n      <td>2013-06-06</td>\n      <td>27</td>\n    </tr>\n    <tr>\n      <th>results_90.csv</th>\n      <td>skill</td>\n      <td>Belen</td>\n      <td>23</td>\n      <td>FEMALE</td>\n      <td>0.22</td>\n      <td>0.259259</td>\n      <td>0.518519</td>\n      <td>91.833333</td>\n      <td>5.428571</td>\n      <td>0.928571</td>\n      <td>...</td>\n      <td>19.285714</td>\n      <td>13.214286</td>\n      <td>100</td>\n      <td>2</td>\n      <td>0</td>\n      <td>0</td>\n      <td>1371459466.0</td>\n      <td>139.252.15.102</td>\n      <td>2013-06-17</td>\n      <td>27</td>\n    </tr>\n    <tr>\n      <th>results_93.csv</th>\n      <td>mixed</td>\n      <td>Rafael</td>\n      <td>28</td>\n      <td>MALE</td>\n      <td>0.15</td>\n      <td>0.269231</td>\n      <td>0.576923</td>\n      <td>93.0</td>\n      <td>33.714286</td>\n      <td>34.6</td>\n      <td>...</td>\n      <td>24.428571</td>\n      <td>38.266667</td>\n      <td>99</td>\n      <td>3</td>\n      <td>5</td>\n      <td>19</td>\n      <td>1371113766.0</td>\n      <td>27.25.20.93</td>\n      <td>2013-06-13</td>\n      <td>26</td>\n    </tr>\n    <tr>\n      <th>results_95.csv</th>\n      <td>mixed</td>\n      <td>Macarena</td>\n      <td>26</td>\n      <td>female</td>\n      <td>0.19</td>\n      <td>0.230769</td>\n      <td>0.576923</td>\n      <td>77.6</td>\n      <td>49.333333</td>\n      <td>49.666667</td>\n      <td>...</td>\n      <td>34.0</td>\n      <td>33.133333</td>\n      <td>99</td>\n      <td>3</td>\n      <td>42</td>\n      <td>1</td>\n      <td>1371021863.0</td>\n      <td>94.110.82.122</td>\n      <td>2013-06-12</td>\n      <td>26</td>\n    </tr>\n  </tbody>\n</table>\n<p>78 rows × 21 columns</p>\n</div>"
     },
     "execution_count": 329,
     "metadata": {},
     "output_type": "execute_result"
    }
   ],
   "source": [
    "import datetime\n",
    "import time\n",
    "count = 0\n",
    "length_of_file = len(data_file_list)\n",
    "print(length_of_file)\n",
    "for i in range(1):\n",
    "    # 这一部分用来读取头\n",
    "    d1 = pd.read_table(data_file_list[i],nrows=4, header=None)\n",
    "    df.iloc[count][0] = d1.iloc[0][0]\n",
    "    date_str = str(d1.iloc[1][0]).split(sep=\":\")[1].strip()\n",
    "    format_date = datetime.datetime.strptime(date_str, \"%d%m%Y%H%M%S\")\n",
    "    ip_str = str(d1.iloc[2][0]).split(sep=\":\")[1].strip()\n",
    "    msg_str = str(d1.iloc[3][0])\n",
    "    df.iloc[count][1], df.iloc[count][2],df.iloc[count][3] = msg_str.split(sep=\",\")\n",
    "\n",
    "    data_df = pd.read_csv(data_file_list[i], encoding=\"utf-8\",skiprows=[0,1,2,3])\n",
    "    trail_number = data_df.shape[0]\n",
    "    trail_result = data_df[\"Result\"]\n",
    "    hit_num = list(trail_result).count(\"hit\")\n",
    "    nearMiss_num = list(trail_result).count(\"nearMiss\")\n",
    "    fullMiss_num = list(trail_result).count(\"fullMiss\")\n",
    "    df.iloc[count][4] = round(hit_num / trail_number,2)\n",
    "    df.iloc[count][5] = nearMiss_num / trail_number\n",
    "    df.iloc[count][6] = fullMiss_num / trail_number\n",
    "\n",
    "    mean_data_df = data_df[[\"Result\", \"Happinness\", \"WantsMore\"]]\n",
    "    # print(mean_data_df)\n",
    "    mean_df_trans = pd.DataFrame(mean_data_df[[\"Happinness\", \"WantsMore\"]].values.T, columns=mean_data_df[\"Result\"])\n",
    "    # print(mean_df_trans[\"hit\"])\n",
    "    # # print(mean_df_trans[\"hit\"].mean(axis=1))\n",
    "    df.iloc[count][7] = mean_df_trans[\"hit\"].mean(axis=1)[0]\n",
    "    df.iloc[count][8] = mean_df_trans[\"nearMiss\"].mean(axis=1)[0]\n",
    "    df.iloc[count][9] = mean_df_trans[\"fullMiss\"].mean(axis=1)[0]\n",
    "    df.iloc[count][10] = mean_df_trans[\"hit\"].mean(axis=1)[1]\n",
    "    df.iloc[count][11] = mean_df_trans[\"nearMiss\"].mean(axis=1)[1]\n",
    "    df.iloc[count][12] = mean_df_trans[\"fullMiss\"].mean(axis=1)[1]\n",
    "\n",
    "    df.iloc[count][13] = data_df[\"Happinness\"].max()\n",
    "    df.iloc[count][14] = data_df[\"Happinness\"].idxmax()\n",
    "    df.iloc[count][15] = data_df[\"Happinness\"].min()\n",
    "    df.iloc[count][16] = data_df[\"Happinness\"].idxmin()\n",
    "    df.iloc[count][17] =  time.mktime(format_date.timetuple())\n",
    "    df.iloc[count][18] = ip_str\n",
    "    df.iloc[count][19] = format_date.date()\n",
    "    df.iloc[count][20] = trail_number\n",
    "\n",
    "\n",
    "    count+=1\n",
    "df"
   ],
   "metadata": {
    "collapsed": false
   }
  },
  {
   "cell_type": "code",
   "execution_count": 330,
   "outputs": [
    {
     "name": "stdout",
     "output_type": "stream",
     "text": [
      "success\n"
     ]
    }
   ],
   "source": [
    "sort_df = df.sort_values(by=\"date\")\n",
    "result_df = sort_df.drop_duplicates(subset=['ip'], keep='first', inplace=False)\n",
    "result_df\n",
    "result_df[alist[:17]].to_csv(result_of_first_path, index=None)\n",
    "print(\"success\")\n"
   ],
   "metadata": {
    "collapsed": false
   }
  },
  {
   "cell_type": "code",
   "execution_count": 331,
   "outputs": [],
   "source": [
    "# 第一部分完成， 开始第二部分"
   ],
   "metadata": {
    "collapsed": false
   }
  },
  {
   "cell_type": "code",
   "execution_count": 332,
   "outputs": [],
   "source": [
    "# second\n",
    "result_of_second_path = os.path.abspath(\"../../result/\") + \"/out2.csv\"\n",
    "result_of_second_path\n",
    "\n",
    "second_columns = [\"date\",\"total_participants\", \"skill_num\", \"luck_num\", \"mixed_num\",\"average_trials\"]\n",
    "blist = files"
   ],
   "metadata": {
    "collapsed": false
   }
  },
  {
   "cell_type": "code",
   "execution_count": 333,
   "outputs": [
    {
     "data": {
      "text/plain": "                condition    datetime\nresults_10.csv      skill  04-06-2013\nresults_204.csv     mixed  04-06-2013\nresults_248.csv     mixed  04-06-2013\nresults_175.csv     mixed  04-06-2013\nresults_263.csv      luck  04-06-2013\n...                   ...         ...\nresults_93.csv      mixed  13-06-2013\nresults_203.csv     skill  13-06-2013\nresults_90.csv      skill  17-06-2013\nresults_252.csv     mixed  17-06-2013\nresults_206.csv     skill  18-06-2013\n\n[74 rows x 2 columns]",
      "text/html": "<div>\n<style scoped>\n    .dataframe tbody tr th:only-of-type {\n        vertical-align: middle;\n    }\n\n    .dataframe tbody tr th {\n        vertical-align: top;\n    }\n\n    .dataframe thead th {\n        text-align: right;\n    }\n</style>\n<table border=\"1\" class=\"dataframe\">\n  <thead>\n    <tr style=\"text-align: right;\">\n      <th></th>\n      <th>condition</th>\n      <th>datetime</th>\n    </tr>\n  </thead>\n  <tbody>\n    <tr>\n      <th>results_10.csv</th>\n      <td>skill</td>\n      <td>04-06-2013</td>\n    </tr>\n    <tr>\n      <th>results_204.csv</th>\n      <td>mixed</td>\n      <td>04-06-2013</td>\n    </tr>\n    <tr>\n      <th>results_248.csv</th>\n      <td>mixed</td>\n      <td>04-06-2013</td>\n    </tr>\n    <tr>\n      <th>results_175.csv</th>\n      <td>mixed</td>\n      <td>04-06-2013</td>\n    </tr>\n    <tr>\n      <th>results_263.csv</th>\n      <td>luck</td>\n      <td>04-06-2013</td>\n    </tr>\n    <tr>\n      <th>...</th>\n      <td>...</td>\n      <td>...</td>\n    </tr>\n    <tr>\n      <th>results_93.csv</th>\n      <td>mixed</td>\n      <td>13-06-2013</td>\n    </tr>\n    <tr>\n      <th>results_203.csv</th>\n      <td>skill</td>\n      <td>13-06-2013</td>\n    </tr>\n    <tr>\n      <th>results_90.csv</th>\n      <td>skill</td>\n      <td>17-06-2013</td>\n    </tr>\n    <tr>\n      <th>results_252.csv</th>\n      <td>mixed</td>\n      <td>17-06-2013</td>\n    </tr>\n    <tr>\n      <th>results_206.csv</th>\n      <td>skill</td>\n      <td>18-06-2013</td>\n    </tr>\n  </tbody>\n</table>\n<p>74 rows × 2 columns</p>\n</div>"
     },
     "execution_count": 333,
     "metadata": {},
     "output_type": "execute_result"
    }
   ],
   "source": [
    "import time\n",
    "def fun2(x):\n",
    "    publishtime = str(x)\n",
    "    array = time.strptime(publishtime, u\"%Y-%m-%d\")\n",
    "    publishTime = time.strftime(\"%d-%m-%Y\", array)\n",
    "    return publishTime\n",
    "\n",
    "count = 0\n",
    "length_of_file = len(data_file_list)\n",
    "df_total = result_df.copy() #这里使用的是去重的数据\n",
    "df_total[\"datetime\"] = df_total.datetime.apply(lambda x: fun2(x))\n",
    "df_total[\"datetime\"]\n",
    "df_second_temp = df_total.copy()[[\"condition\", \"datetime\"]]\n",
    "df_second_temp\n",
    "\n"
   ],
   "metadata": {
    "collapsed": false
   }
  },
  {
   "cell_type": "code",
   "execution_count": 336,
   "outputs": [
    {
     "data": {
      "text/plain": "datetime  04-06-2013  11-06-2013  11-06-2013  10-06-2013  04-06-2013  \\\n0              skill        luck       mixed       mixed       skill   \n1         04-06-2013  11-06-2013  11-06-2013  10-06-2013  04-06-2013   \n2                 27          27          28          27          27   \n\ndatetime  11-06-2013  05-06-2013  10-06-2013  12-06-2013  13-06-2013  ...  \\\n0              skill       skill        luck       skill       skill  ...   \n1         11-06-2013  05-06-2013  10-06-2013  12-06-2013  13-06-2013  ...   \n2                 28          25          27          29          23  ...   \n\ndatetime  13-06-2013  12-06-2013  12-06-2013  13-06-2013  13-06-2013  \\\n0              mixed       mixed        luck       skill       skill   \n1         13-06-2013  12-06-2013  12-06-2013  13-06-2013  13-06-2013   \n2                 25          28          26          29          27   \n\ndatetime  13-06-2013  06-06-2013  17-06-2013  13-06-2013  12-06-2013  \n0              mixed       mixed       skill       mixed       mixed  \n1         13-06-2013  06-06-2013  17-06-2013  13-06-2013  12-06-2013  \n2                 27          27          27          26          26  \n\n[3 rows x 78 columns]",
      "text/html": "<div>\n<style scoped>\n    .dataframe tbody tr th:only-of-type {\n        vertical-align: middle;\n    }\n\n    .dataframe tbody tr th {\n        vertical-align: top;\n    }\n\n    .dataframe thead th {\n        text-align: right;\n    }\n</style>\n<table border=\"1\" class=\"dataframe\">\n  <thead>\n    <tr style=\"text-align: right;\">\n      <th>datetime</th>\n      <th>04-06-2013</th>\n      <th>11-06-2013</th>\n      <th>11-06-2013</th>\n      <th>10-06-2013</th>\n      <th>04-06-2013</th>\n      <th>11-06-2013</th>\n      <th>05-06-2013</th>\n      <th>10-06-2013</th>\n      <th>12-06-2013</th>\n      <th>13-06-2013</th>\n      <th>...</th>\n      <th>13-06-2013</th>\n      <th>12-06-2013</th>\n      <th>12-06-2013</th>\n      <th>13-06-2013</th>\n      <th>13-06-2013</th>\n      <th>13-06-2013</th>\n      <th>06-06-2013</th>\n      <th>17-06-2013</th>\n      <th>13-06-2013</th>\n      <th>12-06-2013</th>\n    </tr>\n  </thead>\n  <tbody>\n    <tr>\n      <th>0</th>\n      <td>skill</td>\n      <td>luck</td>\n      <td>mixed</td>\n      <td>mixed</td>\n      <td>skill</td>\n      <td>skill</td>\n      <td>skill</td>\n      <td>luck</td>\n      <td>skill</td>\n      <td>skill</td>\n      <td>...</td>\n      <td>mixed</td>\n      <td>mixed</td>\n      <td>luck</td>\n      <td>skill</td>\n      <td>skill</td>\n      <td>mixed</td>\n      <td>mixed</td>\n      <td>skill</td>\n      <td>mixed</td>\n      <td>mixed</td>\n    </tr>\n    <tr>\n      <th>1</th>\n      <td>04-06-2013</td>\n      <td>11-06-2013</td>\n      <td>11-06-2013</td>\n      <td>10-06-2013</td>\n      <td>04-06-2013</td>\n      <td>11-06-2013</td>\n      <td>05-06-2013</td>\n      <td>10-06-2013</td>\n      <td>12-06-2013</td>\n      <td>13-06-2013</td>\n      <td>...</td>\n      <td>13-06-2013</td>\n      <td>12-06-2013</td>\n      <td>12-06-2013</td>\n      <td>13-06-2013</td>\n      <td>13-06-2013</td>\n      <td>13-06-2013</td>\n      <td>06-06-2013</td>\n      <td>17-06-2013</td>\n      <td>13-06-2013</td>\n      <td>12-06-2013</td>\n    </tr>\n    <tr>\n      <th>2</th>\n      <td>27</td>\n      <td>27</td>\n      <td>28</td>\n      <td>27</td>\n      <td>27</td>\n      <td>28</td>\n      <td>25</td>\n      <td>27</td>\n      <td>29</td>\n      <td>23</td>\n      <td>...</td>\n      <td>25</td>\n      <td>28</td>\n      <td>26</td>\n      <td>29</td>\n      <td>27</td>\n      <td>27</td>\n      <td>27</td>\n      <td>27</td>\n      <td>26</td>\n      <td>26</td>\n    </tr>\n  </tbody>\n</table>\n<p>3 rows × 78 columns</p>\n</div>"
     },
     "execution_count": 336,
     "metadata": {},
     "output_type": "execute_result"
    }
   ],
   "source": [
    "df_2_use = df.copy()[[\"condition\", \"datetime\", \"trail_times\"]]\n",
    "df_2_use[\"datetime\"] = df_2_use.datetime.apply(lambda x: fun2(x)) # 这里是未去重的数据\n",
    "# print(df_2_use)\n",
    "df_second_temp_trans = pd.DataFrame(df_2_use.values.T, columns= df_2_use[\"datetime\"])\n",
    "df_second_temp_trans = df_second_temp_trans\n",
    "df_second_temp_trans"
   ],
   "metadata": {
    "collapsed": false
   }
  },
  {
   "cell_type": "code",
   "execution_count": 335,
   "outputs": [
    {
     "name": "stdout",
     "output_type": "stream",
     "text": [
      "10\n",
      "['04-06-2013', '05-06-2013', '06-06-2013', '07-06-2013', '10-06-2013', '11-06-2013', '12-06-2013', '13-06-2013', '17-06-2013', '18-06-2013']\n"
     ]
    }
   ],
   "source": [
    "temp_df2 = df_second_temp.drop_duplicates(subset=['datetime'], keep='first', inplace=False)\n",
    "second_numbers = temp_df2.shape[0]\n",
    "print(second_numbers)\n",
    "all_time_list = list(temp_df2[\"datetime\"])\n",
    "print(all_time_list)\n"
   ],
   "metadata": {
    "collapsed": false
   }
  },
  {
   "cell_type": "code",
   "execution_count": 317,
   "outputs": [
    {
     "data": {
      "text/plain": "                  date total_participants skill_num luck_num mixed_num  \\\n04-06-2013  04-06-2013                 16         6        5         5   \n05-06-2013  05-06-2013                  4         2        1         1   \n06-06-2013  06-06-2013                  4         1        2         2   \n07-06-2013  07-06-2013                  1         0        0         1   \n10-06-2013  10-06-2013                  8         3        2         4   \n11-06-2013  11-06-2013                  8         3        3         2   \n12-06-2013  12-06-2013                 18         6        7         6   \n13-06-2013  13-06-2013                 12         5        3         4   \n17-06-2013  17-06-2013                  2         1        1         1   \n18-06-2013  18-06-2013                  1         1        0         0   \n\n           average_trials  \n04-06-2013          26.75  \n05-06-2013           26.5  \n06-06-2013          34.25  \n07-06-2013           26.0  \n10-06-2013          30.12  \n11-06-2013           27.0  \n12-06-2013          28.17  \n13-06-2013          26.33  \n17-06-2013           41.5  \n18-06-2013           29.0  ",
      "text/html": "<div>\n<style scoped>\n    .dataframe tbody tr th:only-of-type {\n        vertical-align: middle;\n    }\n\n    .dataframe tbody tr th {\n        vertical-align: top;\n    }\n\n    .dataframe thead th {\n        text-align: right;\n    }\n</style>\n<table border=\"1\" class=\"dataframe\">\n  <thead>\n    <tr style=\"text-align: right;\">\n      <th></th>\n      <th>date</th>\n      <th>total_participants</th>\n      <th>skill_num</th>\n      <th>luck_num</th>\n      <th>mixed_num</th>\n      <th>average_trials</th>\n    </tr>\n  </thead>\n  <tbody>\n    <tr>\n      <th>04-06-2013</th>\n      <td>04-06-2013</td>\n      <td>16</td>\n      <td>6</td>\n      <td>5</td>\n      <td>5</td>\n      <td>26.75</td>\n    </tr>\n    <tr>\n      <th>05-06-2013</th>\n      <td>05-06-2013</td>\n      <td>4</td>\n      <td>2</td>\n      <td>1</td>\n      <td>1</td>\n      <td>26.5</td>\n    </tr>\n    <tr>\n      <th>06-06-2013</th>\n      <td>06-06-2013</td>\n      <td>4</td>\n      <td>1</td>\n      <td>2</td>\n      <td>2</td>\n      <td>34.25</td>\n    </tr>\n    <tr>\n      <th>07-06-2013</th>\n      <td>07-06-2013</td>\n      <td>1</td>\n      <td>0</td>\n      <td>0</td>\n      <td>1</td>\n      <td>26.0</td>\n    </tr>\n    <tr>\n      <th>10-06-2013</th>\n      <td>10-06-2013</td>\n      <td>8</td>\n      <td>3</td>\n      <td>2</td>\n      <td>4</td>\n      <td>30.12</td>\n    </tr>\n    <tr>\n      <th>11-06-2013</th>\n      <td>11-06-2013</td>\n      <td>8</td>\n      <td>3</td>\n      <td>3</td>\n      <td>2</td>\n      <td>27.0</td>\n    </tr>\n    <tr>\n      <th>12-06-2013</th>\n      <td>12-06-2013</td>\n      <td>18</td>\n      <td>6</td>\n      <td>7</td>\n      <td>6</td>\n      <td>28.17</td>\n    </tr>\n    <tr>\n      <th>13-06-2013</th>\n      <td>13-06-2013</td>\n      <td>12</td>\n      <td>5</td>\n      <td>3</td>\n      <td>4</td>\n      <td>26.33</td>\n    </tr>\n    <tr>\n      <th>17-06-2013</th>\n      <td>17-06-2013</td>\n      <td>2</td>\n      <td>1</td>\n      <td>1</td>\n      <td>1</td>\n      <td>41.5</td>\n    </tr>\n    <tr>\n      <th>18-06-2013</th>\n      <td>18-06-2013</td>\n      <td>1</td>\n      <td>1</td>\n      <td>0</td>\n      <td>0</td>\n      <td>29.0</td>\n    </tr>\n  </tbody>\n</table>\n</div>"
     },
     "execution_count": 317,
     "metadata": {},
     "output_type": "execute_result"
    }
   ],
   "source": [
    "list(df_second_temp[\"datetime\"])\n",
    "df_second = pd.DataFrame(columns=second_columns, index=all_time_list)\n",
    "\n",
    "for i in range(second_numbers):\n",
    "    df_second.iloc[i][\"date\"] = all_time_list[i]\n",
    "    df_second.iloc[i][1] = list(df_second_temp[\"datetime\"]).count(str(all_time_list[i]))\n",
    "    conditions_df = df_second_temp_trans[all_time_list[i]].iloc[[0,1]]\n",
    "    #print(conditions_df)\n",
    "\n",
    "    conditions_df_trans =pd.DataFrame(conditions_df.values.T).iloc[:, :1]\n",
    "    conditions_df_trans.columns = [\"fangFa\"]\n",
    "    fang_fa_list = list(conditions_df_trans[\"fangFa\"])\n",
    "    new_list = []\n",
    "    for item in fang_fa_list:\n",
    "        new_list.append(item.strip())\n",
    "    # print(new_list)\n",
    "    df_second.iloc[i][2] = new_list.count(\"skill\")\n",
    "    df_second.iloc[i][3] = new_list.count(\"luck\")\n",
    "    df_second.iloc[i][4] = new_list.count(\"mixed\")\n",
    "\n",
    "    mean_trail_df = df_second_temp_trans[all_time_list[i]].iloc[[2]]\n",
    "    mean_trail_df_trans = pd.DataFrame(mean_trail_df.values.T).iloc[:, :1]\n",
    "    mean_trail_df_trans.columns = [\"cishu\"]\n",
    "    total_sum = mean_trail_df_trans[\"cishu\"].sum()\n",
    "    # print(mean_trail_df_trans)\n",
    "    # print(total_sum)\n",
    "    # print(\"__________________________\")\n",
    "    df_second.iloc[i][5] = round(total_sum / df_second.iloc[i][1], 2)\n",
    "df_second"
   ],
   "metadata": {
    "collapsed": false
   }
  },
  {
   "cell_type": "code",
   "execution_count": 318,
   "outputs": [
    {
     "name": "stdout",
     "output_type": "stream",
     "text": [
      "success\n"
     ]
    }
   ],
   "source": [
    "df_second.to_csv(result_of_second_path, index=None)\n",
    "print(\"success\")"
   ],
   "metadata": {
    "collapsed": false
   }
  },
  {
   "cell_type": "code",
   "execution_count": null,
   "outputs": [],
   "source": [],
   "metadata": {
    "collapsed": false
   }
  }
 ],
 "metadata": {
  "kernelspec": {
   "display_name": "Python 3",
   "language": "python",
   "name": "python3"
  },
  "language_info": {
   "codemirror_mode": {
    "name": "ipython",
    "version": 2
   },
   "file_extension": ".py",
   "mimetype": "text/x-python",
   "name": "python",
   "nbconvert_exporter": "python",
   "pygments_lexer": "ipython2",
   "version": "2.7.6"
  }
 },
 "nbformat": 4,
 "nbformat_minor": 0
}
